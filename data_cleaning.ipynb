{
 "cells": [
  {
   "cell_type": "code",
   "execution_count": null,
   "metadata": {
    "collapsed": true
   },
   "outputs": [],
   "source": [
    "import json\n",
    "import re\n",
    "from collections import defaultdict, Counter"
   ]
  },
  {
   "cell_type": "code",
   "execution_count": null,
   "outputs": [],
   "source": [
    "\"\"\"API data cleaning\"\"\"\n",
    "with open('API_extract_results.json', 'r', encoding='utf-8') as f:\n",
    "    data = json.load(f)\n",
    "\n",
    "\n",
    "# Function to remove the phospholipid suffix from a compound name\n",
    "def remove_phospholipid_suffix(name):\n",
    "    for suffix in [\"-phospholipid complex\", \"-phospholipid\", \"-PC\"]:\n",
    "        if name.lower().endswith(suffix):\n",
    "            return name[:-len(suffix)]\n",
    "    return name\n",
    "\n",
    "\n",
    "# Initialize a dictionary to store the possible APIs for each file\n",
    "possible_APIs = defaultdict(lambda: {\"phospholipid\": None, \"most_common\": None, \"product\": None})\n",
    "\n",
    "# Iterate over the data and extract the possible APIs\n",
    "for file_name, compounds in data.items():\n",
    "    # Initialize a counter to store the frequency of each compound name\n",
    "    name_counter = Counter()\n",
    "\n",
    "    for compound_info in compounds:\n",
    "        # Check if the 'compound' key exists\n",
    "        if 'compound' in compound_info['API']:\n",
    "            # Check if the 'names' key exists\n",
    "            if 'names' in compound_info['API']['compound']['Compound']:\n",
    "                compound_names = compound_info['API']['compound']['Compound']['names']\n",
    "                compound_roles = compound_info['API']['compound']['Compound'].get('roles', [])\n",
    "\n",
    "                for name in compound_names:\n",
    "                    # Remove the phospholipid suffix from the name\n",
    "                    name_without_suffix = remove_phospholipid_suffix(name)\n",
    "\n",
    "                    # Update the counter\n",
    "                    name_counter[name_without_suffix] += 1\n",
    "\n",
    "                    # Check if the name ends with a phospholipid suffix and if this is the first such name\n",
    "                    if name != name_without_suffix and possible_APIs[file_name][\"phospholipid\"] is None:\n",
    "                        possible_APIs[file_name][\"phospholipid\"] = name_without_suffix\n",
    "\n",
    "                    # Check if the compound is marked as a product and if this is the first such compound\n",
    "                    if \"product\" in compound_roles and possible_APIs[file_name][\"product\"] is None:\n",
    "                        possible_APIs[file_name][\"product\"] = name_without_suffix\n",
    "\n",
    "    # Find the most common compound name if there are any compound names\n",
    "    if name_counter:\n",
    "        most_common_name, _ = name_counter.most_common(1)[0]\n",
    "        # Store the most common name as a possible API\n",
    "        possible_APIs[file_name][\"most_common\"] = most_common_name\n",
    "\n",
    "# Reorder the dictionary keys as requested\n",
    "reordered_APIs = {}\n",
    "for file_name, apis in possible_APIs.items():\n",
    "    reordered_APIs[file_name] = {\"phospholipid\": apis[\"phospholipid\"], \"most_common\": apis[\"most_common\"],\n",
    "                                 \"product\": apis[\"product\"]}\n",
    "\n",
    "# Display the possible APIs for each file\n",
    "reordered_APIs\n",
    "\n",
    "with open('cleaned_API_results.json', 'w') as f:\n",
    "    json.dump(reordered_APIs, f)"
   ],
   "metadata": {
    "collapsed": false
   }
  },
  {
   "cell_type": "code",
   "execution_count": null,
   "outputs": [],
   "source": [
    "\"\"\"Molar Ratio data cleaning\"\"\"\n",
    "with open('MolarRatio_extract_results.json', 'r', encoding='utf-8') as f:\n",
    "    molar_ratio_data = json.load(f)\n",
    "\n",
    "# Initialize a dictionary to store the cleaned data\n",
    "cleaned_molar_ratio_data = {}\n",
    "\n",
    "# Regular expression to match a:b ratio format\n",
    "ratio_format = re.compile(r'\\d+:\\d+')\n",
    "\n",
    "# Iterate over the data and remove entries where raw_value is not in a:b ratio format\n",
    "for file_name, data_points in molar_ratio_data.items():\n",
    "    valid_data_points = []\n",
    "    for data_point in data_points:\n",
    "        raw_value = data_point['MolarRatio']['raw_value']\n",
    "        if ratio_format.match(raw_value):\n",
    "            valid_data_points.append(data_point)\n",
    "    cleaned_molar_ratio_data[file_name] = valid_data_points\n",
    "\n",
    "# Save the results to a JSON file\n",
    "with open('cleaned_MolarRatio_results.json', 'w') as f:\n",
    "    json.dump(cleaned_molar_ratio_data, f)"
   ],
   "metadata": {
    "collapsed": false
   }
  }
 ],
 "metadata": {
  "kernelspec": {
   "display_name": "Python 3",
   "language": "python",
   "name": "python3"
  },
  "language_info": {
   "codemirror_mode": {
    "name": "ipython",
    "version": 2
   },
   "file_extension": ".py",
   "mimetype": "text/x-python",
   "name": "python",
   "nbconvert_exporter": "python",
   "pygments_lexer": "ipython2",
   "version": "2.7.6"
  }
 },
 "nbformat": 4,
 "nbformat_minor": 0
}
